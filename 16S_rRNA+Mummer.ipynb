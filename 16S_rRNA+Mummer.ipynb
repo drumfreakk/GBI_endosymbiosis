{
 "cells": [
  {
   "cell_type": "markdown",
   "id": "8bec3e0c-4a79-4256-8590-0543d2bb9f5d",
   "metadata": {},
   "source": [
    "# 16S rRNA phylogeny\n",
    "\n",
    "16S rRNA sequences were obtained by first running Prokka 1.14.6 on all genomes:"
   ]
  },
  {
   "cell_type": "code",
   "execution_count": null,
   "id": "7e21cdc3-7dea-4391-bcfa-f6affa57db85",
   "metadata": {},
   "outputs": [],
   "source": [
    "f=\"name of genome file\".fna\n",
    "filename=$(basename $f);\n",
    "name=${filename%.fna};\n",
    "prokka_ed -o prokka_$name --prefix $name --locustag $name --kingdom Bacteria --metagenome --cpus 2 $f"
   ]
  },
  {
   "cell_type": "markdown",
   "id": "0a0b63b4-a27b-44b0-b649-e9e0c30027b8",
   "metadata": {},
   "source": [
    "The 16S sequences of each file were then extracted by combining a grep command with seqtk:"
   ]
  },
  {
   "cell_type": "code",
   "execution_count": null,
   "id": "5befa157-cf27-48d5-a81c-f758e667dbb6",
   "metadata": {},
   "outputs": [],
   "source": [
    "grep 16S\\ ribosomal\\ input | sed \"s/ .*//\" | sed \"s/>//\" > rRNA_list_ \n",
    "seqtk subseq \"name of file\".ffn rRNA_list_ > rRNA_list.frn"
   ]
  },
  {
   "cell_type": "markdown",
   "id": "00f23e9c-2513-4fc6-bc68-467dda1eb599",
   "metadata": {},
   "source": [
    "A total of 71 rRNA sequences were found through this technique of which 11 were partial. For both untrimmed and trimmed 16S rRNA sequences, alignments were made by concatenating the files and using mafft v7.525.\n",
    "\n",
    "In the following step iqtree2 version 2.3.6 was performed for the untrimmed 16S rRNA sequences:"
   ]
  },
  {
   "cell_type": "code",
   "execution_count": null,
   "id": "e83317bc-dd99-4de5-94c8-8d11766fd8ff",
   "metadata": {},
   "outputs": [],
   "source": [
    "f=mafft_16S_align_nd \n",
    "iqtree2 -s $f -m GTR+G4 -pre $f.GTRG4"
   ]
  },
  {
   "cell_type": "markdown",
   "id": "7e11912c-6818-4677-a764-9725a522755f",
   "metadata": {},
   "source": [
    "![alt text](images/16S_rRNA1.png)"
   ]
  },
  {
   "cell_type": "markdown",
   "id": "9b4c3059-b9a2-4daa-9106-1ba1645d6d51",
   "metadata": {},
   "source": [
    "The tree that resulted is very messy and unreadable which is why we chose to collapse the 16s rRNA sequences per species. Sequences were collapsed when they shared 99% identity. From 71 rRNA sequences 26 remained:"
   ]
  },
  {
   "cell_type": "code",
   "execution_count": null,
   "id": "52022587-e148-4b42-8ebc-08195709f170",
   "metadata": {},
   "outputs": [],
   "source": [
    "mkdir -p clustered_output\n",
    "\n",
    "for file in rRNA_list*.frn; do\n",
    "    base=$(basename \"$file\" .frn)\n",
    "    cd-hit -i \"$file\" -o \"clustered_output/${base}_cdhit\" -c 0.99 -n 5\n",
    "done\n"
   ]
  },
  {
   "cell_type": "markdown",
   "id": "d5f4256d-b59d-4fdb-991e-53f751fe7a6b",
   "metadata": {},
   "source": [
    "![alt text](images/16S_rRNA_tree_collapsed.png)"
   ]
  },
  {
   "cell_type": "markdown",
   "id": "fefc245b-1fe0-4189-9ea4-310afbec4157",
   "metadata": {},
   "source": [
    "In the tree you can see that most of the sequences have been concatenated except for the sequences belonging to Sodalis ligni (free living) and Sodalis pierantonius (endosymbiont). We chose to leave it unrooted as this tree is only used to see how similar the sequences are to each other. As Sodalis Ligni is a free-living species it makes sense that there are still multiple copies of the same gene. However, Sodalis Pierantonius is an endosymbiont. In the species tree Pierantonius is still fairly close to the root and so it should have had time to lose duplicate genes. It coud be possible that Pierantonius has not yet lost the gene that is needed to have recombination. "
   ]
  },
  {
   "cell_type": "markdown",
   "id": "4e12d420-9271-454b-9fc0-c77bbdafd696",
   "metadata": {},
   "source": [
    "# Mummer\n",
    "\n",
    "To check how much the genomes have diverged from one another, synteny between species was checked by making mummerplots. Additionally we checked how similar the two additional genomes were to each other. As we use genomes of different species, promer version 3.07 was used instead of nucmer. Mummerplot 3.5 was then used to get a visualisation:\n",
    "\n"
   ]
  },
  {
   "cell_type": "code",
   "execution_count": 9,
   "id": "42a070cc-8837-437f-82ae-d8db49bd7efa",
   "metadata": {},
   "outputs": [
    {
     "ename": "SyntaxError",
     "evalue": "invalid syntax (3813182431.py, line 1)",
     "output_type": "error",
     "traceback": [
      "\u001b[0;36m  Cell \u001b[0;32mIn[9], line 1\u001b[0;36m\u001b[0m\n\u001b[0;31m    promer --maxmatch -p \"output_name\" \"Sequence_1\".fna \"Sequence_2\".fna\u001b[0m\n\u001b[0m                         ^\u001b[0m\n\u001b[0;31mSyntaxError\u001b[0m\u001b[0;31m:\u001b[0m invalid syntax\n"
     ]
    }
   ],
   "source": [
    "promer --maxmatch -p \"output_name\" \"Genome_file_1\".fna \"Genome_file_2\".fna\n",
    "mummerplot --color \"output_name\".delta --png -p \"new_output_name\""
   ]
  },
  {
   "cell_type": "markdown",
   "id": "c412d574-c006-4eb3-a77b-4bfd2b6f4c92",
   "metadata": {},
   "source": [
    "A total of six different mummerplots were generated:\n",
    "\n",
    "- Sodalis sp. strain CWE vs Mikella endobia strain MEPMAR\n",
    "- Dickeya dadantii strain X112 vs Pectobacterium cacticida strain CFBP3628\n",
    "- Mikella endobia strain MEPMAR vs Sodalis ligni strain dw23\n",
    "- Sodalis pierantonius strain SOPE vs Sodalis praecaptivus strain HS1\n",
    "- Mikella endobia strain MEPMAR vs Sodalis ligni strain dw23\n",
    "- Sodalis sp. strain Et.F2 vs Sodalis pierantonius strain SOPE\n",
    "\n",
    "These combinations were chosen as all genomes except for Sodalis sp. strain CWE had complete genomes which resulted in readable mummerplots.\n",
    "\n",
    "Comparison of two most recent species according to the tree:\n",
    "- Sodalis sp. strain CWE vs Mikella endobia strain MEPMAR\n",
    "\n",
    "Comparison  free-living and free-living:\n",
    "- Dickeya dadantii strain X112 vs Pectobacterium cacticida strain CFBP3628\n",
    "\n",
    "Comparison endosymbionts and free-living species could be compared:\n",
    "- Moranella endobia strain PCVAL vs Sodalis ligni strain dw23\n",
    "- Mikella endobia strain MEPMAR vs Sodalis ligni strain dw23\n",
    "\n",
    "Comparison within the same clade: \n",
    "- Sodalis sp. strain Et.F2 vs Sodalis pierantonius strain SOPE\n",
    "- Sodalis pierantonius strain SOPE vs Sodalis praecaptivus strain HS1\n",
    "\n"
   ]
  },
  {
   "cell_type": "markdown",
   "id": "29bbfde2-b01f-46a4-a90b-bc2226540a9b",
   "metadata": {},
   "source": [
    "Sodalis sp. strain CWE vs Mikella endobia strain MEPMAR\n",
    "\n",
    "\n",
    "![alt text](images/CWEvsMikella.delta.png)",
    "\n",
    "There is no clear synteny to be seen but they are closely related together in the tree and furthest away from the root. \n",
    "\n"
   ]
  },
  {
   "cell_type": "markdown",
   "id": "0f23ec65-9eaa-4d4c-a368-c5bf1cdce773",
   "metadata": {},
   "source": [
    "Dickeya dadantii strain X112 vs Pectobacterium cacticida strain CFBP3628\n",
    "\n",
    "![alt text](images/DickeyavsPecto.delta.png)",
    "In the bottom right and top left a bit of synteny can be seen. These pieces of synteny probably show important proteins needed for basic function."
   ]
  },
  {
   "cell_type": "markdown",
   "id": "ef226bbb-52ae-48f2-bff9-794b81ff4501",
   "metadata": {},
   "source": [
    "Moranella endobia strain PCVAL vs Sodalis ligni strain dw23\n",
    "\n",
    "![alt text](images/MoranellavsLigni.delta.png)",
    "\n",
    "No synteny can be seen. This is probably as Ligni is a free living species and Moranella is an endosymbiont from a different genus."
   ]
  },
  {
   "cell_type": "markdown",
   "id": "ec91d686-47ef-4d10-9297-3909f2958865",
   "metadata": {},
   "source": [
    "Mikella endobia strain MEPMAR vs Sodalis ligni strain dw23\n",
    "\n",
    "![alt text](images/MikellavsLigni.delta.png)",
    "\n",
    "Here too no clear synteny can be seen. This is logical as one is free living and the other is an endosymbiont. Additionally they do not appear to be close on the species tree."
   ]
  },
  {
   "cell_type": "markdown",
   "id": "60573a3d-0a45-4c5c-b14b-b3394e52a596",
   "metadata": {},
   "source": [
    "Sodalis sp. strain Et.F2 vs Sodalis pierantonius strain SOPE\n",
    "\n",
    "![alt text](images/EtF2vspierantonius.delta.png)",
    "\n",
    "A bit of synteny can be seen which is logical as they are from within the same clade."
   ]
  },
  {
   "cell_type": "markdown",
   "id": "d00216d2-9a5b-42b0-b366-9080adb5bb75",
   "metadata": {},
   "source": [
    "Sodalis pierantonius strain SOPE vs Sodalis praecaptivus strain HS1\n",
    "\n",
    "![alt text](images/PierantoniusvsPraecaptivus.delta.png)",
    "\n",
    "There is synteny as they are in the same clade but there is also a horizontal line, possibly repeats or mobile elements."
   ]
  },
  {
   "cell_type": "code",
   "execution_count": null,
   "id": "317a643c-57e8-4d3b-a5c4-c0e0c1775e9b",
   "metadata": {},
   "outputs": [],
   "source": []
  }
 ],
 "metadata": {
  "kernelspec": {
   "display_name": "Python 3 (ipykernel)",
   "language": "python",
   "name": "python3"
  },
  "language_info": {
   "codemirror_mode": {
    "name": "ipython",
    "version": 3
   },
   "file_extension": ".py",
   "mimetype": "text/x-python",
   "name": "python",
   "nbconvert_exporter": "python",
   "pygments_lexer": "ipython3",
   "version": "3.12.7"
  }
 },
 "nbformat": 4,
 "nbformat_minor": 5
}
