{
 "cells": [
  {
   "metadata": {},
   "cell_type": "markdown",
   "source": [
    "# Phylogenetic tree of host species\n",
    "We decided to build a phylogeny of the host species in the hopes of finding out when endosymbiotic events likely occurred and how many of them.\n",
    "\n",
    "To build the phylogeny, we used mitochondrial 12S rRNA sequences with the accession codes in host-tree/12S_names. We didn't use full genomes as we estimated that would take a long time to download and process, and take up a lot of space. The 12S gene was also one of the only genes that was sequenced for all host organisms and that is suitable for constructing phylogenies over long evolutionary distances. The selected sequences also include some partial or complete mitochondrial genomes, which might have to be trimmed for the alignment to work well.\n",
    "\n",
    "## Downloading the sequences\n",
    "\n",
    "```cat 12S_names | while read f;  do wget -q -O - \"https://eutils.ncbi.nlm.nih.gov/entrez/eutils/efetch.fcgi?db=nuccore&id=$f&rettype=fasta\";  done > 12S_genes.frn```\n",
    "We used this loop to download all the sequences with the identifiers from 12S_names and concatenate them into 12S_genes.frn.\n",
    "\n",
    "## Aligning the sequences with MAFFT v7.525\n",
    "\n",
    "We first ran ```mafft 12S_genes.frn > 12S_genes.frn.mafft``` to align the sequences. However, the 12S rRNA sequences were very fragmented when mapped against the mitochondrial contigs of some other species. To combat this, we tried running MAFFT with iterative refinement: ```mafft --auto --thread -1 12S_genes.frn > 12S_genes.mafft_auto```. MAFFT used the FFT-NS-2 alignment strategy, which progressively aligned two times, but the alignment was still very fragmented."
   ],
   "id": "f7faf582bcfb2652"
  },
  {
   "metadata": {},
   "cell_type": "code",
   "outputs": [],
   "execution_count": null,
   "source": "",
   "id": "17a4ea0c66790621"
  }
 ],
 "metadata": {
  "kernelspec": {
   "display_name": "Python 3",
   "language": "python",
   "name": "python3"
  },
  "language_info": {
   "codemirror_mode": {
    "name": "ipython",
    "version": 2
   },
   "file_extension": ".py",
   "mimetype": "text/x-python",
   "name": "python",
   "nbconvert_exporter": "python",
   "pygments_lexer": "ipython2",
   "version": "2.7.6"
  }
 },
 "nbformat": 4,
 "nbformat_minor": 5
}
