{
 "cells": [
  {
   "metadata": {},
   "cell_type": "markdown",
   "source": [
    "## Model search\n",
    "We tried to find an optimal model to produce a good phylogenetic tree using:\n",
    "\n",
    "```ft=Aligned_SCGs.faa.trimal05```\n",
    "\n",
    "```iqtree -s $ft -m MFP -nt AUTO -pre $ft.bestmodel```\n",
    "\n",
    "-m MFP tries to find the optimal substitution model, and -nt AUTO the optimal number of threads. \n",
    "\n",
    "The best model according to the model finder was Q.plant+R4, as outlined in Aligned_SCGs.faa.trimal05.bestmodel.iqtree. \n",
    "\n",
    "![\"blah\"](figures/Aligned_SCGs.faa.trimal05.bestmodel.treefile.png \"Title\")\n",
    "\n",
    "The resulting tree was identical to the tree produced from the LGG4F model. The plant model being best does not make a lot of sense, but the earlier trees might've already been fully solidified due to the long alignments, so the model might not matter much. However, this does not mean the tree is perfect as artefacts might still occur.\n",
    "\n",
    "Sodalis ligni is placed at the base of the clade containing all Sodalis species, pointing to a free-living LCA of Sodalis.\n",
    "\n",
    "Most of the Sodalis-allied species cluster together, except for Moranella, which clusters with Sodalis sp. strain HBA. Furthermore, Sodalis sp. strain CWE clusters within a clade containing CWE, Mikella, Gullanella, and Doolittlea. This tree could be correct, but since the Sodalis-allied species have fairly long branches, their placement together might also be a result of long branch attraction.\n",
    "\n",
    "Interestingly, S. praecaptivus, a free-living species, is placed within a clade of endosymbiotic Sodalis species. This could mean that the LCA of the clade containing S. praecaptivus and Moranella was not endosymbiotic and multiple endosymbiotic events occurred. Alternatively, the LCA could already have been endosymbiotic to some extent, with S. praecaptivus reverting those changes to become free-living again.\n",
    "\n",
    "One way to get an insight into the evolutionary history of Sodalis, is to compare the phylogeny with a phylogeny of the hosts."
   ],
   "id": "a87c25e9a147b0e4"
  }
 ],
 "metadata": {
  "kernelspec": {
   "display_name": "Python 3",
   "language": "python",
   "name": "python3"
  },
  "language_info": {
   "codemirror_mode": {
    "name": "ipython",
    "version": 2
   },
   "file_extension": ".py",
   "mimetype": "text/x-python",
   "name": "python",
   "nbconvert_exporter": "python",
   "pygments_lexer": "ipython2",
   "version": "2.7.6"
  }
 },
 "nbformat": 4,
 "nbformat_minor": 5
}
